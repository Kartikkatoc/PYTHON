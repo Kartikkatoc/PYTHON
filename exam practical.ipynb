{
 "cells": [
  {
   "cell_type": "code",
   "execution_count": 6,
   "id": "05a822e2-c61d-4aea-ab9d-9824d1b36b62",
   "metadata": {},
   "outputs": [
    {
     "name": "stdout",
     "output_type": "stream",
     "text": [
      "{'python': 2, 'is': 2, 'fun': 1, 'and': 1, 'powerful': 1}\n"
     ]
    }
   ],
   "source": [
    "def count_word_frequency(sentence):\n",
    "    # Convert the sentence to lowercase to count words in a case-insensitive manner\n",
    "    sentence = sentence.lower()\n",
    "    \n",
    "    # Split the sentence into words\n",
    "    words = sentence.split()\n",
    "    \n",
    "    # Create a dictionary to store word frequencies\n",
    "    word_freq = {}\n",
    "    \n",
    "    # Count the frequency of each word\n",
    "    for word in words:\n",
    "        if word in word_freq:\n",
    "            word_freq[word] += 1\n",
    "        else:\n",
    "            word_freq[word] = 1\n",
    "    \n",
    "    return word_freq\n",
    "\n",
    "# Input sentence\n",
    "sentence = \"Python is fun and python is powerful\"\n",
    "\n",
    "# Get the word frequency dictionary\n",
    "word_freq = count_word_frequency(sentence)\n",
    "\n",
    "# Print the result\n",
    "print(word_freq)\n"
   ]
  },
  {
   "cell_type": "code",
   "execution_count": 14,
   "id": "4a196cbd-82fd-4d82-bff4-012c4f669b25",
   "metadata": {},
   "outputs": [
    {
     "name": "stdout",
     "output_type": "stream",
     "text": [
      "Book 'The Great Gatsby' added to the library.\n",
      "Book 'To Kill a Mockingbird' added to the library.\n",
      "Books in library:\n",
      "The Great Gatsby, Author: F. Scott Fitzgerald, ISBN: 9780743273565\n",
      "To Kill a Mockingbird, Author: Harper Lee, ISBN: 9780061120084\n",
      "Search by title 'great':\n",
      "The Great Gatsby, Author: F. Scott Fitzgerald, ISBN: 9780743273565\n",
      "Book 'The Great Gatsby' removed from the library.\n",
      "Books in library:\n",
      "To Kill a Mockingbird, Author: Harper Lee, ISBN: 9780061120084\n"
     ]
    }
   ],
   "source": [
    "class Book:\n",
    "    def __init__(self, title, author, isbn):\n",
    "        self.title = title\n",
    "        self.author = author\n",
    "        self.isbn = isbn\n",
    "\n",
    "    def __str__(self):\n",
    "        return f\"{self.title}, Author: {self.author}, ISBN: {self.isbn}\"\n",
    "class Library:\n",
    "    def __init__(self):\n",
    "        self.books = []\n",
    "\n",
    "    def add_book(self, book):\n",
    "        self.books.append(book)\n",
    "        print(f\"Book '{book.title}' added to the library.\")\n",
    "\n",
    "    def remove_book(self, isbn):\n",
    "        book_to_remove = None\n",
    "        for book in self.books:\n",
    "            if book.isbn == isbn:\n",
    "                book_to_remove = book\n",
    "                break\n",
    "        \n",
    "        if book_to_remove:\n",
    "            self.books.remove(book_to_remove)\n",
    "            print(f\"Book '{book_to_remove.title}' removed from the library.\")\n",
    "        else:\n",
    "            print(\"Book not found.\")\n",
    "\n",
    "    def search_books_by_title(self, title):\n",
    "        results = [book for book in self.books if title.lower() in book.title.lower()]\n",
    "        return results\n",
    "\n",
    "    def display_books(self):\n",
    "        if self.books:\n",
    "            print(\"Books in library:\")\n",
    "            for book in self.books:\n",
    "                print(book)\n",
    "        else:\n",
    "            print(\"No books in the library.\")\n",
    "            # Example usage:\n",
    "library = Library()\n",
    "\n",
    "book1 = Book(\"The Great Gatsby\", \"F. Scott Fitzgerald\", \"9780743273565\")\n",
    "book2 = Book(\"To Kill a Mockingbird\", \"Harper Lee\", \"9780061120084\")\n",
    "\n",
    "library.add_book(book1)\n",
    "library.add_book(book2)\n",
    "\n",
    "library.display_books()\n",
    "\n",
    "print(\"Search by title 'great':\")\n",
    "for book in library.search_books_by_title(\"great\"):\n",
    "    print(book)\n",
    "\n",
    "library.remove_book(\"9780743273565\")\n",
    "library.display_books()\n",
    "\n"
   ]
  },
  {
   "cell_type": "code",
   "execution_count": 16,
   "id": "e2c2ad12-22a5-4479-9796-a54b3778fc98",
   "metadata": {},
   "outputs": [
    {
     "name": "stdout",
     "output_type": "stream",
     "text": [
      "Rotate to the right: [4, 5, 1, 2, 3]\n",
      "Rotate to the left: [3, 4, 5, 1, 2]\n"
     ]
    }
   ],
   "source": [
    "def rotate_list(lst, k, direction):\n",
    "    if direction.lower() == 'right':\n",
    "        # Rotate list to the right\n",
    "        k = k % len(lst)\n",
    "        return lst[-k:] + lst[:-k]\n",
    "    elif direction.lower() == 'left':\n",
    "        # Rotate list to the left\n",
    "        k = k % len(lst)\n",
    "        return lst[k:] + lst[:k]\n",
    "    else:\n",
    "        return \"Invalid direction. Please choose 'right' or 'left'.\"\n",
    "\n",
    "# Example usage:\n",
    "lst = [1, 2, 3, 4, 5]\n",
    "k = 2\n",
    "\n",
    "print(\"Rotate to the right:\", rotate_list(lst, k, 'right'))\n",
    "print(\"Rotate to the left:\", rotate_list(lst, k, 'left'))\n"
   ]
  },
  {
   "cell_type": "code",
   "execution_count": null,
   "id": "0fa247c1-dc89-4458-8ab4-4dd5dce3e9d2",
   "metadata": {},
   "outputs": [],
   "source": []
  }
 ],
 "metadata": {
  "kernelspec": {
   "display_name": "Python 3 (ipykernel)",
   "language": "python",
   "name": "python3"
  },
  "language_info": {
   "codemirror_mode": {
    "name": "ipython",
    "version": 3
   },
   "file_extension": ".py",
   "mimetype": "text/x-python",
   "name": "python",
   "nbconvert_exporter": "python",
   "pygments_lexer": "ipython3",
   "version": "3.12.4"
  }
 },
 "nbformat": 4,
 "nbformat_minor": 5
}
